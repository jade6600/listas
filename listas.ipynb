{
  "nbformat": 4,
  "nbformat_minor": 0,
  "metadata": {
    "colab": {
      "provenance": [],
      "authorship_tag": "ABX9TyOboVIKw7aaO2u2MThQcBfl",
      "include_colab_link": true
    },
    "kernelspec": {
      "name": "python3",
      "display_name": "Python 3"
    },
    "language_info": {
      "name": "python"
    }
  },
  "cells": [
    {
      "cell_type": "markdown",
      "metadata": {
        "id": "view-in-github",
        "colab_type": "text"
      },
      "source": [
        "<a href=\"https://colab.research.google.com/github/jade6600/listas/blob/main/listas.ipynb\" target=\"_parent\"><img src=\"https://colab.research.google.com/assets/colab-badge.svg\" alt=\"Open In Colab\"/></a>"
      ]
    },
    {
      "cell_type": "markdown",
      "source": [
        "# listas\n",
        "- Una lista hace referencia a una colecciòn de datos que pueden ser numeros,cadenas, o algùn otro tipo.\n",
        "- Son colecciones ordenadas de datos, lo que implica que importa el òrden en el cual se encuentran sus elementos.\n",
        "-El primer elemento ocupa la posiciòn 0, el segundo la 1, y asì sucesivamente.\n",
        "- Son mutables: Una vez creada la lista esta puede modificarse, es decir se le pueden agregar o quitar elementos.\n",
        "- En Python estan representadas por el tipo ***list*** y para definirlas se utilizala siguiente sintaxis:\n",
        "```nombre_lista = [valor1,valor2,...,valorn]```\n",
        "\n",
        "- Los elementos pueden ser de cualquier tipo, incluso puden haber tipos diferentes en una misma lista.\n",
        "-Tambien es posible crear una lista usando el constructor ```list()```\n",
        "\n"
      ],
      "metadata": {
        "id": "tpKBYsrKCmgK"
      }
    },
    {
      "cell_type": "code",
      "source": [
        "# ejemplo 1\n",
        "\n",
        "#.......................\n",
        "# usando los []para inicializar  las listas\n",
        "#.......................................\n",
        "\n",
        "dias_laborables = [\"Lunes\",\"Martes\",\"Miercoles\",\"Jueves\",\"Viernes\" ]\n",
        "print(dias_laborables)\n",
        "\n",
        "colores_primarios = [\"Rojo\",\"Amarillo\",\"Azul\"]\n",
        "print(colore_primarios)\n",
        "\n",
        "precios = [205.30, 107.18, 25, 450, 310.89, 170.23, 340]\n",
        "\n",
        "print(precios)\n",
        "print(type(precios))\n",
        "mezcolasa =[ 12, 'octubre ', 1492,True]\n",
        "lista_vacia=[]\n",
        "#..........................................\n",
        "#usando el constructor list\n",
        "#.....................................\n",
        "lista_vacia2 = list()\n",
        "lista_3 = list(range(0,30,2))\n",
        "print(lista_3)\n",
        "lista_4 = list(range(29,0,-2))\n",
        "print(lista_4)\n",
        "lista_5 = list('Jade Florez')\n",
        "print(lista_5)\n",
        "\n",
        "frase=(\"Soreth Florez Peñaloza\")\n",
        "lista_6 = frase.split()\n",
        "print(lista_6)\n",
        "\n"
      ],
      "metadata": {
        "colab": {
          "base_uri": "https://localhost:8080/"
        },
        "id": "Ue00JtJPCq-N",
        "outputId": "5bbe06d0-e2fc-42e0-e0c6-76a381814ffe"
      },
      "execution_count": 11,
      "outputs": [
        {
          "output_type": "stream",
          "name": "stdout",
          "text": [
            "['Lunes', 'Martes', 'Miercoles', 'Jueves', 'Viernes']\n",
            "['rojo', 'amarillo', 'azul']\n",
            "[270, 120, 45, 67]\n",
            "<class 'list'>\n",
            "[0, 2, 4, 6, 8, 10, 12, 14, 16, 18, 20, 22, 24, 26, 28]\n",
            "[29, 27, 25, 23, 21, 19, 17, 15, 13, 11, 9, 7, 5, 3, 1]\n",
            "['J', 'a', 'd', 'e', ' ', 'F', 'l', 'o', 'r', 'e', 'z']\n",
            "['Soreth', 'Florez', 'Peñaloza']\n"
          ]
        }
      ]
    },
    {
      "cell_type": "markdown",
      "source": [
        "##operaciones\n",
        "### operador +\n",
        "\n",
        "-Concatenar o pegar los elementos de una lista al final de la otra.\n",
        "###operador*\n",
        "-repetir la secuencia de los elementos de la lista tantas veces como lo indique el valor que acompaña al operador."
      ],
      "metadata": {
        "id": "bzG81eYtQ0ay"
      }
    },
    {
      "cell_type": "code",
      "source": [
        "\n",
        "# Acceso a los elementos de una lista\n",
        "\n",
        "print(dias_laborables[0])\n",
        "print(dias_laborables[1])\n",
        "print(dias_laborables[-1])\n",
        "\n",
        "# operador +\n",
        "\n",
        "fin_semana = [\"Sabado\",\"Domingo\"]\n",
        "semana = dias_laborables + fin_semana\n",
        "print(semana)\n",
        "\n",
        "# operador +\n",
        "\n",
        "fin_semana = [\"Sabado\",\"Domingo\"]\n",
        "semana = dias_laborables + fin_semana\n",
        "print(semana)\n",
        "\n",
        "# operador *\n",
        "colores_repetidos = colores_primarios * 3\n",
        "print(colores_repetidos)\n"
      ],
      "metadata": {
        "colab": {
          "base_uri": "https://localhost:8080/"
        },
        "id": "rcSbeLnzRcFR",
        "outputId": "3e691393-9123-4e79-e084-26c35fd77936"
      },
      "execution_count": 17,
      "outputs": [
        {
          "output_type": "stream",
          "name": "stdout",
          "text": [
            "Lunes\n",
            "Martes\n",
            "Viernes\n",
            "['Lunes', 'Martes', 'Miercoles', 'Jueves', 'Viernes', 'Sabado', 'Domingo']\n",
            "['Lunes', 'Martes', 'Miercoles', 'Jueves', 'Viernes', 'Sabado', 'Domingo']\n",
            "['Rojo', 'Amarillo', 'Azul', 'Rojo', 'Amarillo', 'Azul', 'Rojo', 'Amarillo', 'Azul']\n"
          ]
        }
      ]
    },
    {
      "cell_type": "markdown",
      "source": [
        "## Funciones asociadas a las listas"
      ],
      "metadata": {
        "id": "s1w_q8yoUH_f"
      }
    },
    {
      "cell_type": "code",
      "source": [
        "dias_laborales = [\"Lunes\",\"Martes\",\"Miercoles\",\"Jueves\",\"Viernes\"]\n",
        "\n",
        "colores_primarios = [\"Rojo\",\"Amarillo\",\"Azul\"]\n",
        "\n",
        "precios = [205.30, 107.18, 25, 450, 310.89, 170.23, 340]\n",
        "\n",
        "pares = list(range(0, 30, 2))\n",
        "\n",
        "impares  = list(range(29, 0, -2))\n",
        "\n",
        "colores_repetidos = colores_primarios * 3\n",
        "\n",
        "#append (): agrega un elemento al final de la lista\n",
        "dias_laborales.append(\"Sabado\")\n",
        "print(dias_laborales)\n",
        "\n",
        "# len(): total de elementos de la lista\n",
        "print('Total de precios = ', len(precios))\n",
        "\n",
        "#count(): cuenta el numero de veces que parece un elemto en la lista\n",
        "print(f\"El luner aparece{dias_laborales.count('Lunes')} vez(veces)\")\n",
        "\n",
        "#insert(): agrega en la posicion indicada por el indice el nuevo valor, dezplazando los demas alementos hacia la derecha, si el indice es mayor al tamaño de la lista, lo agrega al final\n",
        "colores_primarios.insert(2, \"Verde\")\n",
        "print(colores_primarios)\n",
        "\n",
        "# remove(): quita el elemento de la lista, Si el elemento no esta lanza una exepcion\n",
        "dias_laborales.remove(\"Sabado\")\n",
        "print(dias_laborales)\n",
        "\n",
        "# sort(): ordena la lista de menor a mayor\n",
        "precios.sort()\n",
        "print(precios)\n",
        "precios.sort(reverse=True)\n",
        "print(precios)\n",
        "\n",
        "#reverse():\n",
        "numbers = [1, 2, 3, 4, 5]\n",
        "\n",
        "#Reverse the list in place\n",
        "numbers.reverse()\n",
        "\n",
        "print(numbers)\n",
        "\n",
        "#pop():\n",
        "pop = colores_primarios.pop()\n",
        "print(pop)\n",
        "\n",
        "\n",
        "#clear()\n",
        "fruits = ['manzana', 'plátano', 'fresa', 'naranja']\n",
        "\n",
        "fruits.clear()\n",
        "\n",
        "#del\n",
        "del colores_primarios[1]\n",
        "print(colores_primarios)\n",
        "\n",
        "\n",
        "\n"
      ],
      "metadata": {
        "colab": {
          "base_uri": "https://localhost:8080/"
        },
        "id": "7BXwpnkUUUSm",
        "outputId": "619cc26b-5342-48df-a53b-f89063952fb7"
      },
      "execution_count": 35,
      "outputs": [
        {
          "output_type": "stream",
          "name": "stdout",
          "text": [
            "['Lunes', 'Martes', 'Miercoles', 'Jueves', 'Viernes', 'Sabado']\n",
            "Total de precios =  7\n",
            "El luner aparece1 vez(veces)\n",
            "['Rojo', 'Amarillo', 'Verde', 'Azul']\n",
            "['Lunes', 'Martes', 'Miercoles', 'Jueves', 'Viernes']\n",
            "[25, 107.18, 170.23, 205.3, 310.89, 340, 450]\n",
            "[450, 340, 310.89, 205.3, 170.23, 107.18, 25]\n",
            "[5, 4, 3, 2, 1]\n",
            "Azul\n",
            "['Rojo', 'Verde']\n"
          ]
        }
      ]
    },
    {
      "cell_type": "markdown",
      "source": [
        "###particion o divisionde listas(slicing  o rebandas)\n",
        "\n",
        "-se pueden generar sublistas a partir de una lista por medio de la particion (division o slicing)\n",
        "\n",
        "-para obtener una sublista se utiliza la sintaxis:\n",
        "```sublista = lista[inicio:fin:n]```\n"
      ],
      "metadata": {
        "id": "ZMiG-n9Hf6wU"
      }
    },
    {
      "cell_type": "code",
      "source": [
        "from re import sub\n",
        "# crea una lista de numeros enteros\n",
        "lista_1 = [1,2,3,4,5,6]\n",
        "\n",
        "# sublista con los elementos las posiciones de 0 a 2 inclusive\n",
        "sublista_1 = lista_1[0:3]\n",
        "print(sublista_1)\n",
        "\n",
        "# sublista con los elemtos de las posiciones de 0 a la 3 incusive\n",
        "sublista_2 = lista_1[:4]\n",
        "print(sublista_2)\n",
        "\n",
        "# sublista  con los elemetos de las posiciones de 3 a la 5 inclusive\n",
        "sublista_3 = lista_1[3:]\n",
        "print(sublista_3)\n",
        "\n",
        "# sublista con los elemetos del inicio hasta el final con salto de a dos\n",
        "sublista_4 = lista_1[::2]\n",
        "print(sublista_4)\n"
      ],
      "metadata": {
        "colab": {
          "base_uri": "https://localhost:8080/"
        },
        "id": "iT_6PlzTgjmO",
        "outputId": "fe16e911-06eb-4e26-acb1-3f4b59f0bbde"
      },
      "execution_count": 40,
      "outputs": [
        {
          "output_type": "stream",
          "name": "stdout",
          "text": [
            "[1, 2, 3]\n",
            "[1, 2, 3, 4]\n",
            "[4, 5, 6]\n",
            "[1, 3, 5]\n"
          ]
        }
      ]
    }
  ]
}